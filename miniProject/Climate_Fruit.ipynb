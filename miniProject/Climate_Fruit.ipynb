{
 "cells": [
  {
   "cell_type": "code",
   "execution_count": 1,
   "metadata": {
    "scrolled": true
   },
   "outputs": [
    {
     "name": "stdout",
     "output_type": "stream",
     "text": [
      "Requirement already satisfied: hdfs in c:\\users\\bit_r45\\anaconda3\\lib\\site-packages (2.5.8)\n",
      "Requirement already satisfied: six>=1.9.0 in c:\\users\\bit_r45\\anaconda3\\lib\\site-packages (from hdfs) (1.15.0)\n",
      "Requirement already satisfied: docopt in c:\\users\\bit_r45\\anaconda3\\lib\\site-packages (from hdfs) (0.6.2)\n",
      "Requirement already satisfied: requests>=2.7.0 in c:\\users\\bit_r45\\anaconda3\\lib\\site-packages (from hdfs) (2.24.0)\n",
      "Requirement already satisfied: idna<3,>=2.5 in c:\\users\\bit_r45\\anaconda3\\lib\\site-packages (from requests>=2.7.0->hdfs) (2.10)\n",
      "Requirement already satisfied: certifi>=2017.4.17 in c:\\users\\bit_r45\\anaconda3\\lib\\site-packages (from requests>=2.7.0->hdfs) (2020.6.20)\n",
      "Requirement already satisfied: chardet<4,>=3.0.2 in c:\\users\\bit_r45\\anaconda3\\lib\\site-packages (from requests>=2.7.0->hdfs) (3.0.4)\n",
      "Requirement already satisfied: urllib3!=1.25.0,!=1.25.1,<1.26,>=1.21.1 in c:\\users\\bit_r45\\anaconda3\\lib\\site-packages (from requests>=2.7.0->hdfs) (1.25.9)\n"
     ]
    }
   ],
   "source": [
    "!pip install hdfs"
   ]
  },
  {
   "cell_type": "code",
   "execution_count": 2,
   "metadata": {},
   "outputs": [],
   "source": [
    "from hdfs import InsecureClient"
   ]
  },
  {
   "cell_type": "code",
   "execution_count": 3,
   "metadata": {},
   "outputs": [],
   "source": [
    "client_hdfs = InsecureClient('http://192.168.1.40' + ':50070')"
   ]
  },
  {
   "cell_type": "code",
   "execution_count": 4,
   "metadata": {},
   "outputs": [
    {
     "data": {
      "text/plain": [
       "<bound method Client.status of <InsecureClient(url='http://192.168.1.40:50070')>>"
      ]
     },
     "execution_count": 4,
     "metadata": {},
     "output_type": "execute_result"
    }
   ],
   "source": [
    "client = InsecureClient(\"http://192.168.1.40:50070\", user=\"hadoop\")\n",
    "client\n",
    "client.status"
   ]
  },
  {
   "cell_type": "code",
   "execution_count": 5,
   "metadata": {},
   "outputs": [],
   "source": [
    "def list_files(path):\n",
    "    files = client.list(path)\n",
    "    if len(files) == 0:\n",
    "        print(\"File Not Found\")\n",
    "    else:\n",
    "        for file in files:\n",
    "            print(\"File:\", file)"
   ]
  },
  {
   "cell_type": "code",
   "execution_count": 6,
   "metadata": {},
   "outputs": [
    {
     "name": "stdout",
     "output_type": "stream",
     "text": [
      "File: RCP85_tavg_2020_2100.csv\n",
      "File: RCP85_tmax_2020_2100.csv\n",
      "File: RCP85_tmin_2020_2100.csv\n"
     ]
    }
   ],
   "source": [
    "# if __name__ == \"__main__\":\n",
    "list_files(\"/miniproject/RCP85\")"
   ]
  },
  {
   "cell_type": "code",
   "execution_count": 7,
   "metadata": {},
   "outputs": [],
   "source": [
    "def read_test(path, encoding=\"utf-8\"):\n",
    "    with client.read(path, encoding=encoding) as reader:\n",
    "        data = reader.read()\n",
    "        print(\"Hadoop Read:\", data)"
   ]
  },
  {
   "cell_type": "code",
   "execution_count": 14,
   "metadata": {
    "scrolled": true
   },
   "outputs": [
    {
     "name": "stderr",
     "output_type": "stream",
     "text": [
      "IOPub data rate exceeded.\n",
      "The notebook server will temporarily stop sending output\n",
      "to the client in order to avoid crashing it.\n",
      "To change this limit, set the config variable\n",
      "`--NotebookApp.iopub_data_rate_limit`.\n",
      "\n",
      "Current values:\n",
      "NotebookApp.iopub_data_rate_limit=1000000.0 (bytes/sec)\n",
      "NotebookApp.rate_limit_window=3.0 (secs)\n",
      "\n"
     ]
    }
   ],
   "source": [
    "read_test(\"/miniproject/RCP85/RCP85_tavg_2020_2100.csv\")"
   ]
  },
  {
   "cell_type": "code",
   "execution_count": 9,
   "metadata": {},
   "outputs": [],
   "source": [
    "from io import StringIO\n",
    "import pandas as pd"
   ]
  },
  {
   "cell_type": "code",
   "execution_count": 10,
   "metadata": {},
   "outputs": [
    {
     "name": "stdout",
     "output_type": "stream",
     "text": [
      "Hadoop Read: (BIS),\t1\n",
      "(ECCN)\t1\n",
      "(TSU)\t1\n",
      "(see\t1\n",
      "5D002.C.1,\t1\n",
      "740.13)\t1\n",
      "<http://www.wassenaar.org/>\t1\n",
      "Administration\t1\n",
      "Apache\t1\n",
      "BEFORE\t1\n",
      "BIS\t1\n",
      "Bureau\t1\n",
      "Commerce,\t1\n",
      "Commodity\t1\n",
      "Control\t1\n",
      "Core\t1\n",
      "Department\t1\n",
      "ENC\t1\n",
      "Exception\t1\n",
      "Export\t2\n",
      "For\t1\n",
      "Foundation\t1\n",
      "Government\t1\n",
      "Hadoop\t1\n",
      "Hadoop,\t1\n",
      "Industry\t1\n",
      "Jetty\t1\n",
      "License\t1\n",
      "Number\t1\n",
      "Regulations,\t1\n",
      "SSL\t1\n",
      "Section\t1\n",
      "Security\t1\n",
      "See\t1\n",
      "Software\t2\n",
      "Technology\t1\n",
      "The\t4\n",
      "This\t1\n",
      "U.S.\t1\n",
      "Unrestricted\t1\n",
      "about\t1\n",
      "algorithms.\t1\n",
      "and\t6\n",
      "and/or\t1\n",
      "another\t1\n",
      "any\t1\n",
      "as\t1\n",
      "asymmetric\t1\n",
      "at:\t2\n",
      "both\t1\n",
      "by\t1\n",
      "check\t1\n",
      "classified\t1\n",
      "code\t1\n",
      "code.\t1\n",
      "concerning\t1\n",
      "country\t1\n",
      "country's\t1\n",
      "country,\t1\n",
      "cryptographic\t3\n",
      "currently\t1\n",
      "details\t1\n",
      "distribution\t2\n",
      "eligible\t1\n",
      "encryption\t3\n",
      "exception\t1\n",
      "export\t1\n",
      "following\t1\n",
      "for\t3\n",
      "form\t1\n",
      "from\t1\n",
      "functions\t1\n",
      "has\t1\n",
      "have\t1\n",
      "http://hadoop.apache.org/core/\t1\n",
      "http://wiki.apache.org/hadoop/\t1\n",
      "if\t1\n",
      "import,\t2\n",
      "in\t1\n",
      "included\t1\n",
      "includes\t2\n",
      "information\t2\n",
      "information.\t1\n",
      "is\t1\n",
      "it\t1\n",
      "latest\t1\n",
      "laws,\t1\n",
      "libraries\t1\n",
      "makes\t1\n",
      "manner\t1\n",
      "may\t1\n",
      "more\t2\n",
      "mortbay.org.\t1\n",
      "object\t1\n",
      "of\t5\n",
      "on\t2\n",
      "or\t2\n",
      "our\t2\n",
      "performing\t1\n",
      "permitted.\t1\n",
      "please\t2\n",
      "policies\t1\n",
      "possession,\t2\n",
      "project\t1\n",
      "provides\t1\n",
      "re-export\t2\n",
      "regulations\t1\n",
      "reside\t1\n",
      "restrictions\t1\n",
      "security\t1\n",
      "see\t1\n",
      "software\t2\n",
      "software,\t2\n",
      "software.\t2\n",
      "software:\t1\n",
      "source\t1\n",
      "the\t8\n",
      "this\t3\n",
      "to\t2\n",
      "under\t1\n",
      "use,\t2\n",
      "uses\t1\n",
      "using\t2\n",
      "visit\t1\n",
      "website\t1\n",
      "which\t2\n",
      "wiki,\t1\n",
      "with\t1\n",
      "written\t1\n",
      "you\t1\n",
      "your\t1\n",
      "\n"
     ]
    }
   ],
   "source": [
    "read_test(\"/wordcount.txt\")"
   ]
  },
  {
   "cell_type": "code",
   "execution_count": 12,
   "metadata": {},
   "outputs": [],
   "source": [
    "with client.read(\"/wordcount.txt\", encoding=\"utf-8\") \\\n",
    "        as reader:\n",
    "    data = reader.read()\n",
    "\n",
    "stream = StringIO(data)\n",
    "df = pd.read_csv(stream, sep=\"\\t\", header=None)"
   ]
  },
  {
   "cell_type": "code",
   "execution_count": 13,
   "metadata": {},
   "outputs": [
    {
     "data": {
      "text/html": [
       "<div>\n",
       "<style scoped>\n",
       "    .dataframe tbody tr th:only-of-type {\n",
       "        vertical-align: middle;\n",
       "    }\n",
       "\n",
       "    .dataframe tbody tr th {\n",
       "        vertical-align: top;\n",
       "    }\n",
       "\n",
       "    .dataframe thead th {\n",
       "        text-align: right;\n",
       "    }\n",
       "</style>\n",
       "<table border=\"1\" class=\"dataframe\">\n",
       "  <thead>\n",
       "    <tr style=\"text-align: right;\">\n",
       "      <th></th>\n",
       "      <th>0</th>\n",
       "      <th>1</th>\n",
       "    </tr>\n",
       "  </thead>\n",
       "  <tbody>\n",
       "    <tr>\n",
       "      <th>0</th>\n",
       "      <td>(BIS),</td>\n",
       "      <td>1</td>\n",
       "    </tr>\n",
       "    <tr>\n",
       "      <th>1</th>\n",
       "      <td>(ECCN)</td>\n",
       "      <td>1</td>\n",
       "    </tr>\n",
       "    <tr>\n",
       "      <th>2</th>\n",
       "      <td>(TSU)</td>\n",
       "      <td>1</td>\n",
       "    </tr>\n",
       "    <tr>\n",
       "      <th>3</th>\n",
       "      <td>(see</td>\n",
       "      <td>1</td>\n",
       "    </tr>\n",
       "    <tr>\n",
       "      <th>4</th>\n",
       "      <td>5D002.C.1,</td>\n",
       "      <td>1</td>\n",
       "    </tr>\n",
       "    <tr>\n",
       "      <th>...</th>\n",
       "      <td>...</td>\n",
       "      <td>...</td>\n",
       "    </tr>\n",
       "    <tr>\n",
       "      <th>126</th>\n",
       "      <td>wiki,</td>\n",
       "      <td>1</td>\n",
       "    </tr>\n",
       "    <tr>\n",
       "      <th>127</th>\n",
       "      <td>with</td>\n",
       "      <td>1</td>\n",
       "    </tr>\n",
       "    <tr>\n",
       "      <th>128</th>\n",
       "      <td>written</td>\n",
       "      <td>1</td>\n",
       "    </tr>\n",
       "    <tr>\n",
       "      <th>129</th>\n",
       "      <td>you</td>\n",
       "      <td>1</td>\n",
       "    </tr>\n",
       "    <tr>\n",
       "      <th>130</th>\n",
       "      <td>your</td>\n",
       "      <td>1</td>\n",
       "    </tr>\n",
       "  </tbody>\n",
       "</table>\n",
       "<p>131 rows × 2 columns</p>\n",
       "</div>"
      ],
      "text/plain": [
       "              0  1\n",
       "0        (BIS),  1\n",
       "1        (ECCN)  1\n",
       "2         (TSU)  1\n",
       "3          (see  1\n",
       "4    5D002.C.1,  1\n",
       "..          ... ..\n",
       "126       wiki,  1\n",
       "127        with  1\n",
       "128     written  1\n",
       "129         you  1\n",
       "130        your  1\n",
       "\n",
       "[131 rows x 2 columns]"
      ]
     },
     "execution_count": 13,
     "metadata": {},
     "output_type": "execute_result"
    }
   ],
   "source": [
    "df"
   ]
  },
  {
   "cell_type": "code",
   "execution_count": null,
   "metadata": {},
   "outputs": [],
   "source": []
  }
 ],
 "metadata": {
  "kernelspec": {
   "display_name": "Python 3",
   "language": "python",
   "name": "python3"
  },
  "language_info": {
   "codemirror_mode": {
    "name": "ipython",
    "version": 3
   },
   "file_extension": ".py",
   "mimetype": "text/x-python",
   "name": "python",
   "nbconvert_exporter": "python",
   "pygments_lexer": "ipython3",
   "version": "3.8.3"
  }
 },
 "nbformat": 4,
 "nbformat_minor": 4
}
